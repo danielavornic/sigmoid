{
 "cells": [
  {
   "attachments": {},
   "cell_type": "markdown",
   "metadata": {},
   "source": [
    "### Python OOP Key Concepts\n",
    "\n",
    "Object-Oriented Programming (OOP) is a higher-level programming paradigm that most programming projects rely on."
   ]
  },
  {
   "attachments": {},
   "cell_type": "markdown",
   "metadata": {},
   "source": [
    "### Classes & Objects\n",
    "\n",
    "Classes are user-defined data types, blueprints for structures you want to describe.\n",
    "Objects are instances of these classes."
   ]
  },
  {
   "cell_type": "code",
   "execution_count": 40,
   "metadata": {},
   "outputs": [
    {
     "name": "stdout",
     "output_type": "stream",
     "text": [
      "Alex\n",
      "Pierce\n",
      "{'Informatics': [7, 9, 8], 'Math': [7, 8, 9]}\n",
      "Good student\n"
     ]
    }
   ],
   "source": [
    "class Student:\n",
    "    def __init__(self, name, surname, grades, comments):\n",
    "        self.name = name\n",
    "        self.surname = surname\n",
    "        self.grades = grades\n",
    "        self.comments = comments\n",
    "\n",
    "\n",
    "grades = {'Informatics': [7, 9, 8], 'Math': [7, 8, 9]}\n",
    "student1 = Student('Alex', 'Pierce', grades, 'Good student')\n",
    "\n",
    "print(student1.name)\n",
    "print(student1.surname)\n",
    "print(student1.grades)\n",
    "print(student1.comments)\n"
   ]
  },
  {
   "attachments": {},
   "cell_type": "markdown",
   "metadata": {},
   "source": [
    "#### Encapsulation\n",
    "\n",
    "Encapsulation means containing all important information inside an object and only exposing selected information to the outside world. \n",
    "\n",
    "Encapsulation requires defining some fields as private and some as public.\n",
    "\n",
    "* Private: methods and properties only accessible inside the class\n",
    "* Public: methods and propertiesaccessible from outside the class"
   ]
  },
  {
   "cell_type": "code",
   "execution_count": 42,
   "metadata": {},
   "outputs": [
    {
     "ename": "AttributeError",
     "evalue": "'Student' object has no attribute 'name'",
     "output_type": "error",
     "traceback": [
      "\u001b[0;31m---------------------------------------------------------------------------\u001b[0m",
      "\u001b[0;31mAttributeError\u001b[0m                            Traceback (most recent call last)",
      "Cell \u001b[0;32mIn[42], line 22\u001b[0m\n\u001b[1;32m     19\u001b[0m grades \u001b[39m=\u001b[39m {\u001b[39m'\u001b[39m\u001b[39mInformatics\u001b[39m\u001b[39m'\u001b[39m: [\u001b[39m7\u001b[39m, \u001b[39m9\u001b[39m, \u001b[39m8\u001b[39m], \u001b[39m'\u001b[39m\u001b[39mMath\u001b[39m\u001b[39m'\u001b[39m: [\u001b[39m7\u001b[39m, \u001b[39m8\u001b[39m, \u001b[39m9\u001b[39m]}\n\u001b[1;32m     20\u001b[0m student1 \u001b[39m=\u001b[39m Student(\u001b[39m'\u001b[39m\u001b[39mAlex\u001b[39m\u001b[39m'\u001b[39m, \u001b[39m'\u001b[39m\u001b[39mPierce\u001b[39m\u001b[39m'\u001b[39m, grades, \u001b[39m'\u001b[39m\u001b[39mGood student\u001b[39m\u001b[39m'\u001b[39m)\n\u001b[0;32m---> 22\u001b[0m \u001b[39mprint\u001b[39m(student1\u001b[39m.\u001b[39;49mname)\n",
      "\u001b[0;31mAttributeError\u001b[0m: 'Student' object has no attribute 'name'"
     ]
    }
   ],
   "source": [
    "class Student:\n",
    "\tdef __init__(self, name, surname, grades, comments):\n",
    "\t\tself.__name = name\n",
    "\t\tself.surname = surname\n",
    "\t\tself.grades = grades\n",
    "\t\tself.comment = comments\n",
    "\n",
    "\tdef average_grade(self):\n",
    "\t\tavg = 0\n",
    "\t\tfor value in self.grades.values():\n",
    "\t\t\t\tavg += sum(val) / len(val)\n",
    "\n",
    "\t\treturn avg / len(self.grades.keys())\n",
    "\n",
    "\tdef print_name(self):\n",
    "\t\tprint(self.__name)\n",
    "\n",
    "\n",
    "grades = {'Informatics': [7, 9, 8], 'Math': [7, 8, 9]}\n",
    "student1 = Student('Alex', 'Pierce', grades, 'Good student')\n",
    "\n",
    "print(student1.name)\n"
   ]
  },
  {
   "cell_type": "code",
   "execution_count": null,
   "metadata": {},
   "outputs": [
    {
     "name": "stdout",
     "output_type": "stream",
     "text": [
      "Alex\n"
     ]
    }
   ],
   "source": [
    "student1.print_name()"
   ]
  },
  {
   "attachments": {},
   "cell_type": "markdown",
   "metadata": {},
   "source": [
    "#### Inheritance\n",
    "\n",
    "Inheritance is a way to reuse code. It allows us to define a class that inherits all the methods and properties from another class. Parent classes extend attributes and behaviors to child classes."
   ]
  },
  {
   "cell_type": "code",
   "execution_count": 43,
   "metadata": {},
   "outputs": [
    {
     "name": "stdout",
     "output_type": "stream",
     "text": [
      "I'm sleeping\n",
      "I'm sleeping\n"
     ]
    }
   ],
   "source": [
    "class Human:\n",
    "\tdef __init__(self, name, surname):\n",
    "\t\tself.name = name\n",
    "\t\tself.surname = surname\n",
    "\n",
    "\tdef sleeping(self):\n",
    "\t\tprint(\"I'm sleeping\")\n",
    "\n",
    "\n",
    "class Student(Human):\n",
    "\tdef __init__(self, name, surname, grades, comments):\n",
    "\t\tsuper().__init__(name, surname)\n",
    "\t\tself.grades = grades\n",
    "\t\tself.comment = comments\n",
    "\n",
    "\tdef average_grade(self):\n",
    "\t\tavg = 0\n",
    "\t\tfor value in self.grades.values():\n",
    "\t\t\tavg += sum(val) / len(val)\n",
    "\t\treturn avg / len(self.grades.keys())\n",
    "\n",
    "\n",
    "human1 = Human('Alex', 'Pierce')\n",
    "human1.sleeping()\n",
    "\n",
    "grades = {'Informatics': [7, 9, 8], 'Math': [7, 8, 9]}\n",
    "student1 = Student('Alex', 'Pierce', grades, 'Good student')\n",
    "student1.sleeping()"
   ]
  },
  {
   "attachments": {},
   "cell_type": "markdown",
   "metadata": {},
   "source": [
    "#### Polymorphism\n",
    "\n",
    "Polymorphism means designing objects to share behaviors. Using Polymorphism, objects can override shared parent behaviors with specific child behaviors. \n",
    "\n",
    "Polymorphism allows the same method to execute different behaviors in two ways:\n",
    "\n",
    "* Method Overriding: a child class can override a method in its parent class. \n",
    "* Method Overloading: a child class can overload a method in its parent class. It helps us call methods with the same name for different instances of different classes"
   ]
  },
  {
   "cell_type": "code",
   "execution_count": 44,
   "metadata": {},
   "outputs": [
    {
     "name": "stdout",
     "output_type": "stream",
     "text": [
      "I'm sleeping\n",
      "Student is sleeping\n"
     ]
    }
   ],
   "source": [
    "# Method overriding\n",
    "class Human:\n",
    "\tdef __init__(self, name, surname):\n",
    "\t\tself.name = name\n",
    "\t\tself.surname = surname\n",
    "\n",
    "\tdef sleeping(self):\n",
    "\t\tprint(\"I'm sleeping\")\n",
    "\n",
    "\n",
    "class Student(Human):\n",
    "\tdef __init__(self, name, surname, grades, comments):\n",
    "\t\tsuper().__init__(name, surname)\n",
    "\t\tself.grades = grades\n",
    "\t\tself.comment = comments\n",
    "\n",
    "\tdef average_grade(self):\n",
    "\t\tavg = 0\n",
    "\t\tfor value in self.grades.values():\n",
    "\t\t\t\tavg += sum(val) / len(val)\n",
    "\t\treturn avg / len(self.grades.keys())\n",
    "\n",
    "\tdef sleeping(self):\n",
    "\t\tprint(\"Student is sleeping\")\n",
    "\n",
    "\n",
    "human1 = Human('Alex', 'Pierce')\n",
    "human1.sleeping()\n",
    "\n",
    "grades = {'Informatics': [7, 9, 8], 'Math': [7, 8, 9]}\n",
    "student1 = Student('Alex', 'Pierce', grades, 'Good student')\n",
    "student1.sleeping()\n"
   ]
  },
  {
   "cell_type": "code",
   "execution_count": 45,
   "metadata": {},
   "outputs": [
    {
     "name": "stdout",
     "output_type": "stream",
     "text": [
      "Student is sleeping\n",
      "Teacher is sleeping\n"
     ]
    }
   ],
   "source": [
    "# Method overloading\n",
    "class Student:\n",
    "\tdef __init__(self, name, surname, grades, comments):\n",
    "\t\tself.name = name\n",
    "\t\tself.surname = surname\n",
    "\t\tself.grades = grades\n",
    "\t\tself.comment = comments\n",
    "\n",
    "\tdef average_grade(self):\n",
    "\t\tavg = 0\n",
    "\t\tfor value in self.grades.values():\n",
    "\t\t\tavg += sum(val) / len(val)\n",
    "\t\treturn avg / len(self.grades.keys())\n",
    "\n",
    "\tdef sleeping(self):\n",
    "\t\tprint(\"Student is sleeping\")\n",
    "\n",
    "\n",
    "class Teacher:\n",
    "\tdef __init__(self, name, surname):\n",
    "\t\tself.name = name\n",
    "\t\tself.surname = surname\n",
    "\n",
    "\tdef sleeping(self):\n",
    "\t\tprint(\"Teacher is sleeping\")\n",
    "\n",
    "\n",
    "student1 = Student('Alex', 'Pierce', grades, 'Good student')\n",
    "teacher1 = Teacher('Tom', 'Cruise')\n",
    "\n",
    "for obj in (student1, teacher1):\n",
    "\tobj.sleeping()"
   ]
  }
 ],
 "metadata": {
  "kernelspec": {
   "display_name": "Python 3",
   "language": "python",
   "name": "python3"
  },
  "language_info": {
   "codemirror_mode": {
    "name": "ipython",
    "version": 3
   },
   "file_extension": ".py",
   "mimetype": "text/x-python",
   "name": "python",
   "nbconvert_exporter": "python",
   "pygments_lexer": "ipython3",
   "version": "3.10.9"
  },
  "orig_nbformat": 4,
  "vscode": {
   "interpreter": {
    "hash": "916dbcbb3f70747c44a77c7bcd40155683ae19c65e1c03b4aa3499c5328201f1"
   }
  }
 },
 "nbformat": 4,
 "nbformat_minor": 2
}
